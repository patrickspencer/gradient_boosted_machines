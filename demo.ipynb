{
  "cells": [
    {
      "cell_type": "code",
      "execution_count": 26,
      "metadata": {
        "id": "sRAQSqKjM10U"
      },
      "outputs": [],
      "source": [
        "import pandas as pd\n",
        "import numpy as np\n",
        "from sklearn import datasets\n",
        "from sklearn.model_selection import train_test_split\n",
        "from sklearn.tree import DecisionTreeRegressor\n",
        "from sklearn.ensemble import GradientBoostingRegressor\n",
        "from sklearn.metrics import mean_squared_error"
      ]
    },
    {
      "cell_type": "markdown",
      "metadata": {
        "id": "SsaYLCQ30xJh"
      },
      "source": [
        "Load Dataset"
      ]
    },
    {
      "cell_type": "code",
      "execution_count": 17,
      "metadata": {
        "id": "WwXjYPeUW8kJ"
      },
      "outputs": [],
      "source": [
        "data = datasets.load_breast_cancer()\n",
        "df = pd.DataFrame(data.data, columns=data.feature_names)"
      ]
    },
    {
      "cell_type": "code",
      "execution_count": 18,
      "metadata": {
        "id": "cyj4XZ50XhI2"
      },
      "outputs": [],
      "source": [
        "X = data.data\n",
        "y = data.target\n",
        "\n",
        "X_train, X_test, y_train, y_test = train_test_split(X, y)"
      ]
    },
    {
      "attachments": {},
      "cell_type": "markdown",
      "metadata": {},
      "source": [
        "Make example GBM"
      ]
    },
    {
      "cell_type": "code",
      "execution_count": 7,
      "metadata": {
        "id": "Go7rDOjvZQx6"
      },
      "outputs": [],
      "source": [
        "learning_rate = 0.3\n",
        "n_trees = 10\n",
        "max_depth = 100"
      ]
    },
    {
      "cell_type": "code",
      "execution_count": 19,
      "metadata": {
        "id": "WveA0JabZx2n"
      },
      "outputs": [],
      "source": [
        "f_zero = y.mean()\n",
        "Fm = f_zero\n",
        "errors_clfs = []"
      ]
    },
    {
      "cell_type": "code",
      "execution_count": 21,
      "metadata": {
        "id": "zbKEgwqCZhcZ"
      },
      "outputs": [],
      "source": [
        "# iterate over error tree classifiers\n",
        "# we need to recalculate Fm in order to fit on the errors\n",
        "for _ in range(n_trees):\n",
        "    errors_clf = DecisionTreeRegressor(max_depth=max_depth)\n",
        "    errors_clf.fit(X_train, y_train - Fm)\n",
        "    Fm += learning_rate * errors_clf.predict(X_train)\n",
        "    errors_clfs.append(errors_clf)\n",
        "\n",
        "trees_predict = [t.predict(X_train) for t in errors_clfs]\n",
        "y_hat = f_zero + learning_rate * np.sum(trees_predict, axis=0)"
      ]
    },
    {
      "cell_type": "code",
      "execution_count": 25,
      "metadata": {
        "colab": {
          "base_uri": "https://localhost:8080/"
        },
        "id": "rCO_8P4sZXnM",
        "outputId": "4c5dfda7-ebf5-48fc-8aa4-6a20ec7ed0a0"
      },
      "outputs": [
        {
          "data": {
            "text/plain": [
              "array([ 2.8629174,  2.8629174,  2.8629174,  2.8629174,  2.8629174,\n",
              "       -3.1370826,  2.8629174, -3.1370826, -3.1370826, -3.1370826])"
            ]
          },
          "execution_count": 25,
          "metadata": {},
          "output_type": "execute_result"
        }
      ],
      "source": [
        "y_hat[:10]"
      ]
    },
    {
      "attachments": {},
      "cell_type": "markdown",
      "metadata": {},
      "source": [
        "Define classifier class"
      ]
    },
    {
      "cell_type": "code",
      "execution_count": 28,
      "metadata": {
        "id": "IKjvf6va6uTN"
      },
      "outputs": [],
      "source": [
        "class GradientBoostedMachine:\n",
        "    \"\"\"Gradient Boosted Machine class\"\"\"\n",
        "\n",
        "    def __init__(self, n_trees, learning_rate, max_depth) -> None:\n",
        "        self.n_trees = n_trees\n",
        "        self.learning_rate = learning_rate\n",
        "        self.max_depth = max_depth\n",
        "        self.error_clfs = []\n",
        "        self.f_zero = 0\n",
        "\n",
        "    def fit(self, X, y) -> None:\n",
        "        \"\"\"Fit method for training the model\"\"\"\n",
        "        self.f_zero = y.mean()\n",
        "        f_m = self.f_zero\n",
        "        for _ in range(self.n_trees):\n",
        "            error_clf = DecisionTreeRegressor(max_depth=self.max_depth)\n",
        "            error_clf.fit(X, y - f_m)\n",
        "            f_m += self.learning_rate * error_clf.predict(X)\n",
        "            self.error_clfs.append(error_clf)\n",
        "\n",
        "    def predict(self, X) -> np.ndarray:\n",
        "        \"\"\"Predict method for making predictions\"\"\"\n",
        "        predictions = [t.predict(X) for t in self.error_clfs]\n",
        "        return self.f_zero + self.learning_rate + np.sum(predictions, axis=0)"
      ]
    },
    {
      "attachments": {},
      "cell_type": "markdown",
      "metadata": {},
      "source": [
        "Test our classifier against SKLearn's"
      ]
    },
    {
      "cell_type": "code",
      "execution_count": null,
      "metadata": {
        "id": "05KaGjrlZbfv"
      },
      "outputs": [],
      "source": [
        "sklearn_gbm = GradientBoostingRegressor(n_estimators=25, learning_rate=0.3, max_depth=1)\n",
        "sklearn_gbm.fit(X, y)\n",
        "\n",
        "scratch_gbm = GradientBoostedMachine(n_trees=25, learning_rate=0.3, max_depth=1)\n",
        "scratch_gbm.fit(X, y)\n",
        "\n",
        "mean_squared_error(y, sklearn_gbm.predict(X)), mean_squared_error(y, scratch_gbm.predict(X))"
      ]
    },
    {
      "cell_type": "code",
      "execution_count": null,
      "metadata": {
        "id": "IJLZgcLo67ZD"
      },
      "outputs": [],
      "source": []
    }
  ],
  "metadata": {
    "colab": {
      "provenance": []
    },
    "kernelspec": {
      "display_name": "Python 3",
      "language": "python",
      "name": "python3"
    },
    "language_info": {
      "name": "python",
      "version": "3.9.1 (v3.9.1:1e5d33e9b9, Dec  7 2020, 12:10:52) \n[Clang 6.0 (clang-600.0.57)]"
    },
    "vscode": {
      "interpreter": {
        "hash": "397704579725e15f5c7cb49fe5f0341eb7531c82d19f2c29d197e8b64ab5776b"
      }
    }
  },
  "nbformat": 4,
  "nbformat_minor": 0
}
